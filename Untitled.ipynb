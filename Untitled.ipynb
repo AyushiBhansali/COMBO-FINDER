{
  "nbformat": 4,
  "nbformat_minor": 0,
  "metadata": {
    "colab": {
      "provenance": [],
      "authorship_tag": "ABX9TyMbDjmOw06nWIPxz9ADqA0Z",
      "include_colab_link": true
    },
    "kernelspec": {
      "name": "python3",
      "display_name": "Python 3"
    },
    "language_info": {
      "name": "python"
    }
  },
  "cells": [
    {
      "cell_type": "markdown",
      "metadata": {
        "id": "view-in-github",
        "colab_type": "text"
      },
      "source": [
        "<a href=\"https://colab.research.google.com/github/AyushiBhansali/COMBO-FINDER/blob/main/Untitled.ipynb\" target=\"_parent\"><img src=\"https://colab.research.google.com/assets/colab-badge.svg\" alt=\"Open In Colab\"/></a>"
      ]
    },
    {
      "cell_type": "markdown",
      "source": [
        "**COMBO FINDER**"
      ],
      "metadata": {
        "id": "U57N8bPZJ0VB"
      }
    },
    {
      "cell_type": "markdown",
      "source": [
        "Problem Statement:\n",
        "Find all the list of products whose sum-of-price is between 290 and 310.\n",
        "\n",
        "ProductList = {p1:10, p2:15, p3:20, p4:25, p5:30, p6:35, p7:50}\n",
        "\n"
      ],
      "metadata": {
        "id": "138ep262Jrys"
      }
    },
    {
      "cell_type": "markdown",
      "source": [
        "1 library Inclusion"
      ],
      "metadata": {
        "id": "ZLYmYdYTJ79r"
      }
    },
    {
      "cell_type": "code",
      "source": [
        "import random as r"
      ],
      "metadata": {
        "id": "FxOPxiFjJ_GW"
      },
      "execution_count": null,
      "outputs": []
    },
    {
      "cell_type": "markdown",
      "source": [
        "2 Parameter Setting\n",
        "Read the productld-price file and convert to dictionary "
      ],
      "metadata": {
        "id": "BecZp759KIhI"
      }
    },
    {
      "cell_type": "code",
      "source": [],
      "metadata": {
        "id": "2V-z_NURKYg-"
      },
      "execution_count": null,
      "outputs": []
    },
    {
      "cell_type": "code",
      "metadata": {
        "id": "NHB2KMhZim1o"
      },
      "source": [
        "ProductList = {'p1':10, 'p2':15, 'p3':20, 'p4':25, 'p5':30, 'p6':35, 'p7':50,\n",
        "               'p8':40, 'p9':55, 'p10':60, 'p11':65, 'p12':75, 'p13':70,\n",
        "               'p14':45}\n",
        "LB          = 290\n",
        "UB          = 310\n",
        "ResultList  = set()   # Store Result List i.e. list of sets whose sum is between 90 and 210.\n",
        "Iterations  = 1000    # Number of Inerations"
      ],
      "execution_count": null,
      "outputs": []
    },
    {
      "cell_type": "markdown",
      "source": [
        "SINGLE RUN"
      ],
      "metadata": {
        "id": "vbTZ1o1JKd6x"
      }
    },
    {
      "cell_type": "code",
      "metadata": {
        "id": "veBU-f21im1x",
        "colab": {
          "base_uri": "https://localhost:8080/"
        },
        "outputId": "ded3d528-0943-4fa3-f566-812baff467f0"
      },
      "source": [
        "# Select combo size (i.e. number of products in a combo)\n",
        "SetSize = r.randint(2, len(ProductList)-1)\n",
        "print(\"Number of Product: \", SetSize)\n",
        "\n",
        "\n",
        "# Select number of elements from Set\n",
        "ComboList = r.sample(list(ProductList.keys()),SetSize)\n",
        "print(\"Product List     : \", ComboList)\n",
        "\n",
        "\n",
        "# Sum the products in ColboList\n",
        "ComboSum = sum([ ProductList[i] for i in ComboList])\n",
        "print(\"Sum of Product   : \", ComboSum)\n"
      ],
      "execution_count": null,
      "outputs": [
        {
          "output_type": "stream",
          "name": "stdout",
          "text": [
            "Number of Product:  11\n",
            "Product List     :  ['p8', 'p12', 'p5', 'p2', 'p14', 'p6', 'p1', 'p10', 'p3', 'p13', 'p4']\n",
            "Sum of Product   :  425\n"
          ]
        }
      ]
    },
    {
      "cell_type": "markdown",
      "source": [
        "3 START PROGRAM"
      ],
      "metadata": {
        "id": "CIBFMaRwLs6c"
      }
    },
    {
      "cell_type": "code",
      "source": [
        "# Loop till number of Iterations\n",
        "ResultList  = set()\n",
        "\n",
        "for i in range(Iterations):\n",
        "\n",
        "    # Select combo size (i.e. number of products in a combo)\n",
        "    SetSize = r.randint(2, len(ProductList)-1)\n",
        "\n",
        "    # Select number of elements from Set\n",
        "    ComboList = r.sample(list(ProductList.keys()),SetSize)\n",
        "\n",
        "    # Sum the products in ColboList\n",
        "    ComboSum = sum([ ProductList[i] for i in ComboList])\n",
        "    \n",
        "    # Check the Sum Between LB and UB\n",
        "    if ComboSum>= LB and ComboSum<= UB:\n",
        "      ResultList.add(tuple(ComboList))\n",
        "\n",
        "print(\"Done\")"
      ],
      "metadata": {
        "colab": {
          "base_uri": "https://localhost:8080/"
        },
        "id": "WQXnLV0OLvxg",
        "outputId": "0d89a56e-fb4e-4c43-e1be-c97eea79845c"
      },
      "execution_count": null,
      "outputs": [
        {
          "output_type": "stream",
          "name": "stdout",
          "text": [
            "Done\n"
          ]
        }
      ]
    },
    {
      "cell_type": "markdown",
      "source": [
        "4 Print the comboLists and total count"
      ],
      "metadata": {
        "id": "P1ahT2vkMNFN"
      }
    },
    {
      "cell_type": "code",
      "source": [],
      "metadata": {
        "id": "JNW_VVdkMSCH"
      },
      "execution_count": null,
      "outputs": []
    },
    {
      "cell_type": "code",
      "metadata": {
        "colab": {
          "base_uri": "https://localhost:8080/"
        },
        "id": "41abL1k-im10",
        "scrolled": true,
        "outputId": "ba50ae9f-05ff-4d0a-e6af-d5fbf72a92eb"
      },
      "source": [
        "# Print all the sets whose sum is between LB and UB\n",
        "for r in ResultList:\n",
        "\tprint (r)\n",
        "\n",
        "# Print total sets\n",
        "print (\"\\nTotal Sets: \", len(ResultList), \"\\n\")"
      ],
      "execution_count": null,
      "outputs": [
        {
          "output_type": "stream",
          "name": "stdout",
          "text": [
            "('p10', 'p4', 'p11', 'p1', 'p2', 'p8', 'p3', 'p9')\n",
            "('p1', 'p2', 'p14', 'p5', 'p6', 'p8', 'p7', 'p12')\n",
            "('p4', 'p10', 'p14', 'p11', 'p8', 'p12')\n",
            "('p3', 'p8', 'p12', 'p13', 'p5', 'p10')\n",
            "('p14', 'p13', 'p5', 'p10', 'p8', 'p7')\n",
            "('p8', 'p4', 'p10', 'p11', 'p5', 'p9', 'p6')\n",
            "('p3', 'p4', 'p1', 'p8', 'p14', 'p9', 'p6', 'p10')\n",
            "('p5', 'p8', 'p4', 'p9', 'p12', 'p11')\n",
            "('p6', 'p14', 'p10', 'p11', 'p4', 'p12')\n",
            "('p7', 'p14', 'p4', 'p2', 'p3', 'p1', 'p13', 'p8', 'p6')\n",
            "('p8', 'p4', 'p6', 'p3', 'p13', 'p2', 'p1', 'p5', 'p14')\n",
            "('p6', 'p9', 'p11', 'p10', 'p1', 'p12')\n",
            "('p14', 'p6', 'p13', 'p7', 'p11', 'p4')\n",
            "('p7', 'p14', 'p11', 'p2', 'p12', 'p6', 'p4')\n",
            "('p2', 'p1', 'p6', 'p12', 'p7', 'p4', 'p8', 'p10')\n",
            "('p6', 'p11', 'p13', 'p8', 'p5', 'p7')\n",
            "('p8', 'p2', 'p7', 'p13', 'p9', 'p12')\n",
            "('p3', 'p1', 'p8', 'p12', 'p13', 'p11', 'p4')\n",
            "('p10', 'p14', 'p7', 'p8', 'p5', 'p13')\n",
            "('p11', 'p9', 'p3', 'p13', 'p7', 'p8')\n",
            "('p7', 'p8', 'p6', 'p1', 'p13', 'p12', 'p2')\n",
            "('p5', 'p7', 'p14', 'p13', 'p6', 'p10')\n",
            "('p1', 'p6', 'p12', 'p14', 'p2', 'p11', 'p10')\n",
            "('p9', 'p13', 'p5', 'p14', 'p3', 'p6', 'p4', 'p2')\n",
            "('p8', 'p11', 'p12', 'p1', 'p3', 'p5', 'p14', 'p4')\n",
            "('p7', 'p2', 'p11', 'p8', 'p5', 'p6', 'p9')\n",
            "('p14', 'p13', 'p7', 'p12', 'p11')\n",
            "('p1', 'p10', 'p8', 'p13', 'p5', 'p11', 'p6')\n",
            "('p5', 'p2', 'p6', 'p12', 'p10', 'p8', 'p14')\n",
            "('p13', 'p11', 'p12', 'p3', 'p7', 'p2')\n",
            "('p3', 'p12', 'p4', 'p10', 'p9', 'p11')\n",
            "('p8', 'p4', 'p10', 'p5', 'p11', 'p12')\n",
            "('p2', 'p14', 'p8', 'p11', 'p6', 'p10', 'p5')\n",
            "('p1', 'p5', 'p9', 'p6', 'p14', 'p2', 'p13', 'p7')\n",
            "('p8', 'p4', 'p13', 'p6', 'p10', 'p1', 'p11')\n",
            "('p14', 'p12', 'p13', 'p2', 'p3', 'p9', 'p4')\n",
            "('p3', 'p13', 'p9', 'p7', 'p14', 'p1', 'p4', 'p2')\n",
            "('p7', 'p13', 'p14', 'p9', 'p8', 'p4', 'p3')\n",
            "('p1', 'p5', 'p2', 'p7', 'p8', 'p3', 'p12', 'p10')\n",
            "('p2', 'p4', 'p10', 'p9', 'p12', 'p6', 'p5')\n",
            "('p2', 'p3', 'p14', 'p9', 'p13', 'p7', 'p6')\n",
            "('p14', 'p10', 'p6', 'p7', 'p3', 'p8', 'p9')\n",
            "('p2', 'p11', 'p12', 'p1', 'p8', 'p9', 'p7')\n",
            "('p1', 'p13', 'p3', 'p9', 'p12', 'p7', 'p5')\n",
            "('p4', 'p6', 'p12', 'p3', 'p14', 'p10', 'p5', 'p1')\n",
            "('p5', 'p1', 'p13', 'p10', 'p12', 'p9')\n",
            "('p9', 'p14', 'p5', 'p11', 'p8', 'p10')\n",
            "('p10', 'p6', 'p1', 'p4', 'p8', 'p7', 'p13')\n",
            "('p13', 'p11', 'p2', 'p6', 'p7', 'p3', 'p1', 'p8')\n",
            "('p6', 'p11', 'p10', 'p3', 'p2', 'p8', 'p7', 'p4')\n",
            "('p10', 'p13', 'p14', 'p12', 'p4', 'p2')\n",
            "\n",
            "Total Sets:  51 \n",
            "\n"
          ]
        }
      ]
    },
    {
      "cell_type": "markdown",
      "source": [
        "5 COMPLETE THE PROGRAM WITH SORTING"
      ],
      "metadata": {
        "id": "wPt8GT2IMXIr"
      }
    },
    {
      "cell_type": "code",
      "source": [],
      "metadata": {
        "id": "FJ_LttyMMeJP"
      },
      "execution_count": null,
      "outputs": []
    },
    {
      "cell_type": "code",
      "metadata": {
        "colab": {
          "base_uri": "https://localhost:8080/"
        },
        "outputId": "6f4b660f-3376-495c-fe6f-23ae4ac0c9e6",
        "id": "zzblepy0k4LU"
      },
      "source": [
        "#-------------------------------------------------------------\n",
        "# Step 1: Library inclusion                             \n",
        "#-------------------------------------------------------------\n",
        "import random as r\n",
        "\n",
        "\n",
        "#-------------------------------------------------------------\n",
        "# Step 2: Parameter Setting\n",
        "#-------------------------------------------------------------\n",
        "ProductList = {'p1':10, 'p2':15, 'p3':20, 'p4':25, 'p5':30, 'p6':35, 'p7':50,\n",
        "               'p8':40, 'p9':55, 'p10':60, 'p11':65, 'p12':75, 'p13':70,\n",
        "               'p14':45}\n",
        "LB          = 290\n",
        "UB          = 310\n",
        "ResultList  = set()   # Store Result List i.e. list of sets whose sum is between 90 and 210.\n",
        "Iterations  = 1000    # Number of Inerations\n",
        "\n",
        "\n",
        "#-------------------------------------------------------------\n",
        "# Step3: Start Program\n",
        "#-------------------------------------------------------------\n",
        "for i in range(Iterations):\n",
        "\n",
        "    # Select combo size (i.e. number of products in a combo)\n",
        "    SetSize = r.randint(2, len(ProductList)-1)\n",
        "\n",
        "    # Select number of elements from Set\n",
        "    ComboList = r.sample(list(ProductList.keys()),SetSize)\n",
        "    ComboList.sort()\n",
        "\n",
        "    # Sum the products in ColboList\n",
        "    ComboSum = sum([ ProductList[i] for i in ComboList])\n",
        "\n",
        "    # Check the Sum Between LB and UB\n",
        "    if ComboSum>= LB and ComboSum<= UB:\n",
        "      ResultList.add(tuple(ComboList))\n",
        "\n",
        "\n",
        "# Print all the sets whose sum is between LB and UB\n",
        "for r in ResultList:\n",
        "\tprint (r)\n",
        "\n",
        "# Print total sets\n",
        "print (\"\\nTotal Sets: \", len(ResultList), \"\\n\")\n"
      ],
      "execution_count": null,
      "outputs": [
        {
          "output_type": "stream",
          "name": "stdout",
          "text": [
            "('p10', 'p11', 'p13', 'p2', 'p5', 'p9')\n",
            "('p11', 'p12', 'p13', 'p7', 'p8')\n",
            "('p10', 'p11', 'p14', 'p2', 'p5', 'p7', 'p8')\n",
            "('p10', 'p13', 'p14', 'p4', 'p7', 'p8')\n",
            "('p10', 'p12', 'p14', 'p2', 'p4', 'p5', 'p9')\n",
            "('p1', 'p10', 'p13', 'p2', 'p7', 'p8', 'p9')\n",
            "('p1', 'p10', 'p11', 'p14', 'p2', 'p4', 'p5', 'p9')\n",
            "('p1', 'p12', 'p13', 'p2', 'p3', 'p4', 'p8', 'p9')\n",
            "('p10', 'p11', 'p12', 'p14', 'p2', 'p5')\n",
            "('p10', 'p11', 'p12', 'p14', 'p4', 'p8')\n",
            "('p11', 'p12', 'p14', 'p2', 'p7', 'p9')\n",
            "('p11', 'p13', 'p4', 'p6', 'p7', 'p9')\n",
            "('p1', 'p10', 'p3', 'p5', 'p6', 'p7', 'p8', 'p9')\n",
            "('p10', 'p13', 'p2', 'p4', 'p5', 'p6', 'p9')\n",
            "('p12', 'p13', 'p4', 'p5', 'p6', 'p9')\n",
            "('p10', 'p12', 'p3', 'p4', 'p5', 'p7', 'p8')\n",
            "('p1', 'p10', 'p11', 'p14', 'p2', 'p3', 'p6', 'p7')\n",
            "('p1', 'p11', 'p12', 'p2', 'p6', 'p8', 'p9')\n",
            "('p10', 'p14', 'p3', 'p4', 'p5', 'p6', 'p8', 'p9')\n",
            "('p1', 'p10', 'p11', 'p12', 'p4', 'p9')\n",
            "('p1', 'p10', 'p11', 'p12', 'p3', 'p5', 'p7')\n",
            "('p1', 'p10', 'p11', 'p12', 'p14', 'p3', 'p6')\n",
            "('p1', 'p11', 'p13', 'p14', 'p5', 'p6', 'p9')\n",
            "('p10', 'p13', 'p14', 'p2', 'p3', 'p4', 'p5', 'p8')\n",
            "('p10', 'p14', 'p3', 'p5', 'p6', 'p7', 'p9')\n",
            "('p1', 'p10', 'p11', 'p14', 'p4', 'p5', 'p9')\n",
            "('p10', 'p12', 'p3', 'p4', 'p5', 'p8', 'p9')\n",
            "('p10', 'p13', 'p6', 'p7', 'p8', 'p9')\n",
            "('p10', 'p11', 'p4', 'p6', 'p7', 'p9')\n",
            "('p1', 'p13', 'p5', 'p6', 'p7', 'p8', 'p9')\n",
            "('p1', 'p10', 'p14', 'p3', 'p4', 'p5', 'p7', 'p9')\n",
            "('p1', 'p10', 'p12', 'p13', 'p3', 'p4', 'p5')\n",
            "('p10', 'p11', 'p12', 'p3', 'p4', 'p9')\n",
            "('p12', 'p13', 'p14', 'p2', 'p5', 'p6', 'p8')\n",
            "('p11', 'p12', 'p13', 'p2', 'p6', 'p8')\n",
            "('p1', 'p12', 'p14', 'p4', 'p6', 'p7', 'p9')\n",
            "('p1', 'p10', 'p11', 'p12', 'p3', 'p4', 'p7')\n",
            "('p10', 'p11', 'p13', 'p14', 'p5', 'p8')\n",
            "('p1', 'p10', 'p11', 'p2', 'p4', 'p5', 'p7', 'p8')\n",
            "('p1', 'p12', 'p5', 'p6', 'p7', 'p8', 'p9')\n",
            "('p1', 'p10', 'p12', 'p14', 'p5', 'p6', 'p9')\n",
            "('p1', 'p12', 'p13', 'p14', 'p2', 'p3', 'p5', 'p8')\n",
            "('p1', 'p10', 'p11', 'p12', 'p4', 'p5', 'p6')\n",
            "('p10', 'p13', 'p4', 'p5', 'p7', 'p9')\n",
            "('p11', 'p12', 'p14', 'p2', 'p3', 'p5', 'p7')\n",
            "('p1', 'p11', 'p13', 'p3', 'p7', 'p8', 'p9')\n",
            "('p10', 'p11', 'p12', 'p3', 'p4', 'p7')\n",
            "('p10', 'p13', 'p5', 'p6', 'p8', 'p9')\n",
            "('p10', 'p14', 'p2', 'p5', 'p7', 'p8', 'p9')\n",
            "('p11', 'p12', 'p14', 'p2', 'p4', 'p5', 'p8')\n",
            "('p1', 'p13', 'p14', 'p2', 'p3', 'p4', 'p5', 'p6', 'p8')\n",
            "('p10', 'p11', 'p13', 'p14', 'p2', 'p9')\n",
            "('p1', 'p11', 'p12', 'p13', 'p2', 'p4', 'p6')\n",
            "\n",
            "Total Sets:  53 \n",
            "\n"
          ]
        }
      ]
    }
  ]
}